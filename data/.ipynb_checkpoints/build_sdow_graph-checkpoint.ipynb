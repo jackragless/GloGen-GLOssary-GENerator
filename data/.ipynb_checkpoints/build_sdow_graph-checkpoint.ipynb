{
 "cells": [
  {
   "cell_type": "code",
   "execution_count": 1,
   "id": "91062f0a",
   "metadata": {},
   "outputs": [],
   "source": [
    "data_loc = ''\n",
    "import pandas as pd\n",
    "from tqdm import tqdm\n",
    "import itertools\n",
    "import pickle\n",
    "from csv import DictReader\n",
    "import sys\n",
    "import csv"
   ]
  },
  {
   "cell_type": "code",
   "execution_count": 2,
   "id": "4416264c",
   "metadata": {},
   "outputs": [],
   "source": [
    "def dfToDict(df):\n",
    "    outdict = {}\n",
    "    for index, row in tqdm(df.iterrows(), total=len(df)):\n",
    "        row = dict(row)\n",
    "        outdict[row[list(row.keys())[0]]] = dict(itertools.islice(row.items(),1,None))\n",
    "    return outdict"
   ]
  },
  {
   "cell_type": "code",
   "execution_count": 3,
   "id": "3c171a57",
   "metadata": {},
   "outputs": [
    {
     "name": "stderr",
     "output_type": "stream",
     "text": [
      "100%|████████████████████████████████████████████████████████████████| 13716445/13716445 [09:49<00:00, 23274.98it/s]\n"
     ]
    }
   ],
   "source": [
    "pages = pd.read_csv(data_loc+'pages.csv')\n",
    "page_dict = {}\n",
    "graph_dict = {}\n",
    "for index, row in tqdm(pages.iterrows(), total=len(pages)):\n",
    "    row = dict(row)\n",
    "    page_dict[row[list(row.keys())[1]]] = row[list(row.keys())[0]]\n",
    "    graph_dict[row[list(row.keys())[0]]] = {list(row.keys())[2]:row[list(row.keys())[2]]}\n",
    "del pages    "
   ]
  },
  {
   "cell_type": "code",
   "execution_count": 4,
   "id": "ecfb5b55",
   "metadata": {},
   "outputs": [],
   "source": [
    "pickle.dump(page_dict,open(data_loc+\"title2id.pkl\", \"wb\" ))\n",
    "del page_dict"
   ]
  },
  {
   "cell_type": "code",
   "execution_count": 5,
   "id": "8d9f0c51",
   "metadata": {},
   "outputs": [
    {
     "name": "stderr",
     "output_type": "stream",
     "text": [
      "100%|██████████████████████████████████████████████████████████████████| 8148739/8148739 [05:15<00:00, 25837.02it/s]\n"
     ]
    }
   ],
   "source": [
    "redirects = dfToDict(pd.read_csv(data_loc+'redirects.csv'))"
   ]
  },
  {
   "cell_type": "code",
   "execution_count": 10,
   "id": "596524f3",
   "metadata": {},
   "outputs": [
    {
     "name": "stderr",
     "output_type": "stream",
     "text": [
      "100%|██████████████████████████████████████████████████████████████| 13716445/13716445 [00:13<00:00, 1051715.17it/s]\n"
     ]
    }
   ],
   "source": [
    "for k,v in tqdm(graph_dict.items()):\n",
    "    if k in redirects.keys() and v['is_redirect'] == 1:\n",
    "        v['redirect'] = redirects[k]['target_id']\n",
    "    else:\n",
    "        v['redirect'] = None\n",
    "    del v['is_redirect']\n",
    "    graph_dict[k] = v\n",
    "del redirects"
   ]
  },
  {
   "cell_type": "code",
   "execution_count": 12,
   "id": "307d6e78",
   "metadata": {},
   "outputs": [],
   "source": [
    "csv.field_size_limit(sys.maxsize)\n",
    "with open(data_loc+'links.csv', 'r') as read_obj:\n",
    "    csv_dict_reader = DictReader(read_obj)\n",
    "    count = 0\n",
    "    for row in csv_dict_reader:\n",
    "        row = dict(row)\n",
    "        graph_dict[int(row['id'])].update(dict(itertools.islice(row.items(),1,None)))\n",
    "        if not graph_dict[int(row['id'])]['outgoing_links']:\n",
    "            graph_dict[int(row['id'])]['outgoing_links'] = None\n",
    "        if not graph_dict[int(row['id'])]['incoming_links']:\n",
    "            graph_dict[int(row['id'])]['incoming_links'] = None"
   ]
  },
  {
   "cell_type": "code",
   "execution_count": 13,
   "id": "353bbd50",
   "metadata": {},
   "outputs": [],
   "source": [
    "pickle.dump(graph_dict,open(data_loc+\"sdow_graph.pkl\", \"wb\" ))"
   ]
  },
  {
   "cell_type": "code",
   "execution_count": null,
   "id": "468e2ef4",
   "metadata": {},
   "outputs": [],
   "source": []
  }
 ],
 "metadata": {
  "kernelspec": {
   "display_name": "Python 3 (ipykernel)",
   "language": "python",
   "name": "python3"
  },
  "language_info": {
   "codemirror_mode": {
    "name": "ipython",
    "version": 3
   },
   "file_extension": ".py",
   "mimetype": "text/x-python",
   "name": "python",
   "nbconvert_exporter": "python",
   "pygments_lexer": "ipython3",
   "version": "3.7.11"
  }
 },
 "nbformat": 4,
 "nbformat_minor": 5
}
